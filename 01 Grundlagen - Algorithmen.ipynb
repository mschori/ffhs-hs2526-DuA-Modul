{
 "cells": [
  {
   "metadata": {},
   "cell_type": "markdown",
   "source": [
    "# Algorithmen\n",
    "- Landau-Symbole: Werden verwendet, um die Laufzeit von Algorithmen zu beschreiben. Besonders die sog. Gross-Oh-Notation (O(...)).\n",
    "- Bei der Implementierung von Algorithmen muss man sich entscheiden, ob dies durch eine rekursive oder iterative Funktion tut. Genauso muss man sich entscheiden, ob er eine bestehende Datenstruktur verändert oder eine neue Datenstruktur zurückliefert. Schlussendlich muss man auch entscheiden, ob man eine Datenstruktur durch eine Klasse oder etwa durch eine Liste oder gar durch eine Hash-Tabelle implementiert.\n",
    "\n",
    "## Logarithmen\n",
    "Der Ausdruck log<sub>10</sub> 100 entspricht der Frage: \"Wie viele Zehen muss man miteinander multiplizieren, um 100 zu erhalten?\" Die Antwort lautet 2: 10 · 10 = 100. Also ist log<sub>10</sub> 100 = 2.\n",
    "\n",
    "Logarithmen sind die Umkehrung von Exponentialfunktionen. \\\n",
    "Übrigens: Wenn es um die Laufzeit und die Landau-Notation geht, bedeutet log stets log<sub>2</sub>, also der Logarithmus zur Basis 2. \\\n",
    "\n",
    "Für eine Liste mit 8 Elementen gilt, log 8 == 3, denn 2<sup>3</sup> = 8. \\\n",
    "Es müssen also höchstens 3 Schritte unternommen werden, um ein Element in einer Liste mit 8 Elementen zu finden. \\\n",
    "\n",
    "## Rekursion\n",
    "- Rekursion bedeutet, dass eine Funktion sich selbst aufruft\n",
    "- Alle rekursiven Funktionen haben zwei Bestandteile: den Basisfall und den Rekursionsfall\n",
    "- Ein Stack stellt zwei Operationen zur Verfügung: push (ein Element auf den Stack legen) und pop (das oberste Element vom Stack entfernen).\n",
    "- Alle Funktionsaufrufe werden auf dem Aufruf-Stack gespeichert\n",
    "- Der Aufruf-Stack kann sehr gross werden und sehr viel Arbeitsspeicher belegen\n",
    "\n",
    "## Auftrag\n",
    "### Praktische Algorithmik mit Python - Aufgabe 1.1\n",
    "Geben Sie konkrete Werte der Konstanten C und n<sub>2</sub> an, die zeigen, dass gilt:\n",
    "\n",
    "(a) 3n<sup>2</sup> + 10 $\\in$ O(n<sup>2</sup>)\n",
    "\n",
    "(b) 3n<sup>2</sup> + n + 1 $\\in$ O(n<sup>2</sup>)\n",
    "\n",
    "---\n",
    "Was ist C?: C ist die Konstante, die den Ausdruck deckelt.\n",
    "Was ist n<sub>0</sub>?: Das ist der Wert, ab dem die Aussage gilt.\n",
    "\n",
    "Wir wollen also zeigen: Für alle n $\\ge$ n<sub>0</sub> gilt: Ausdruck $\\le$ C*n<sup>2</sup>\n",
    "\n",
    "Vorgehen:\n",
    "1. Was wächst am stärksten? --> 3n<sup>2</sup> und sicher nicht +10\n",
    "2. Schätze ab: 3n<sup>2</sup> + 10 $\\le$ 4n<sup>2</sup>, sobald n etwas grösser ist\n",
    "3. Teste Werte: n = 1 (passt nicht da 4 * n<sup>2</sup> = 4 zu klein ist für 3 * 1<sup>2</sup> + 10 = 13), n = 5 (passt), n = 10 (passt)\n",
    "4. Fazit: Wähle z.B. C = 4 und n<sub>0</sub> = 5 oder höher\n",
    "\n",
    "Das C spiegelt also den gewählten Wert für n bei $\\le$ n<sup>2</sup>. Das n<sub>0</sub> spiegelt also den Wert, den wir für n wählen."
   ],
   "id": "70c1973140490180"
  },
  {
   "metadata": {},
   "cell_type": "markdown",
   "source": [
    "### Aufgabe 1.5\n",
    "Verwenden Sie die Python-Funktion reduce, um eine Funktion prod(lst) zu definieren, die als Ergebnis die Multiplikation der Zahlen in lst zurückliefert. Implementieren Sie nun facIter mithilfe von prod."
   ],
   "id": "bde0ce3b2b33655c"
  },
  {
   "metadata": {
    "ExecuteTime": {
     "end_time": "2025-09-01T15:43:04.525758Z",
     "start_time": "2025-09-01T15:43:04.522291Z"
    }
   },
   "cell_type": "code",
   "source": [
    "from functools import reduce\n",
    "\n",
    "\n",
    "def prod(lst):\n",
    "    return reduce(lambda x, y: x * y, lst)\n",
    "\n",
    "\n",
    "def fac_iter(n: int):\n",
    "    return prod(range(1, n + 1))\n",
    "\n",
    "\n",
    "print(fac_iter(5))"
   ],
   "id": "7efd560f8653f6c8",
   "outputs": [
    {
     "name": "stdout",
     "output_type": "stream",
     "text": [
      "120\n"
     ]
    }
   ],
   "execution_count": 1
  },
  {
   "metadata": {},
   "cell_type": "markdown",
   "source": "Das gleiche jetzt in der rekursiven Version.",
   "id": "7ea366c89c9114f3"
  },
  {
   "metadata": {
    "ExecuteTime": {
     "end_time": "2025-09-01T15:43:13.553170Z",
     "start_time": "2025-09-01T15:43:13.550647Z"
    }
   },
   "cell_type": "code",
   "source": [
    "def fac_rec(n: int):\n",
    "    if n == 0:\n",
    "        return 1\n",
    "    return n * fac_rec(n - 1)\n",
    "\n",
    "\n",
    "print(fac_rec(5))"
   ],
   "id": "cfdbc1be214a1110",
   "outputs": [
    {
     "name": "stdout",
     "output_type": "stream",
     "text": [
      "120\n"
     ]
    }
   ],
   "execution_count": 2
  },
  {
   "metadata": {},
   "cell_type": "markdown",
   "source": [
    "### Aufgabe 1.6\n",
    "Angenommen, eine rekursive Funktion erhält als Argument eine reelle Zahl. Warum\n",
    "ist es fur eine korrekt funktionierende rekursive Funktion nicht ausreichend zu fordern, dass die rekursiven Aufrufe als Argumente kleinere reelle Zahlen erhalten als\n",
    "die aufrufende Funktion?\n",
    "\n",
    "Antwort:\n",
    "- Reelle Zahlen sind unendlich teilbar\n",
    "- \"Kleiner\" ist kein Garant für Terminierung\n",
    "\n",
    "Eine korrekt funktionierende Rekursion mit reellen Zahlen muss also immer eine Abbruchbedingung haben und sicherstellen, dass die rekursive Folge strikt gegen diesen Grenzwert konvergiert und ihn in endlich vielen Schritten erreicht."
   ],
   "id": "a6f9c1d64848e1fc"
  },
  {
   "metadata": {},
   "cell_type": "markdown",
   "source": [
    "### Aufgabe 1.7\n",
    "(a) Definieren Sie die Funktion sum(n), die die Summe der Zahlen von 1 bis n\n",
    "berechnen soll, rekursiv.\n",
    "\n",
    "(b) Definieren Sie die Funktion len(lst), die die L¨ange der Liste lst berechnen soll,\n",
    "rekursiv.\n"
   ],
   "id": "212aa1aeb5f730dc"
  },
  {
   "metadata": {
    "ExecuteTime": {
     "end_time": "2025-09-01T15:43:15.921751Z",
     "start_time": "2025-09-01T15:43:15.917451Z"
    }
   },
   "cell_type": "code",
   "source": [
    "def summary(n):\n",
    "    if n == 0:\n",
    "        return 0\n",
    "    return n + summary(n - 1)\n",
    "\n",
    "\n",
    "print(summary(5))\n",
    "\n",
    "\n",
    "def length(lst):\n",
    "    if not lst:\n",
    "        return 0\n",
    "    return 1 + length(lst[1:])\n",
    "\n",
    "\n",
    "print(length([1, 2, 3]))"
   ],
   "id": "ea38471636a391ab",
   "outputs": [
    {
     "name": "stdout",
     "output_type": "stream",
     "text": [
      "15\n",
      "3\n"
     ]
    }
   ],
   "execution_count": 3
  },
  {
   "metadata": {},
   "cell_type": "markdown",
   "source": [
    "### Beschriftung eines Lineals\n",
    "Der folgende Algorithmus stellt ein Lineal dar. In der Mittel soll sich ein Strich in der Höhe h befinden. Die linke und rechte Hälfte des Lineals sollen wiederum vollständig beschriftete Lineale sein, in deren Mitte sich jeweils STriche in der Höhe h - 1 befinden. Der Algorithmus soll rekursiv sein und die Beschriftung des Lineals in der Konsole ausgeben."
   ],
   "id": "45b748490eeab6fe"
  },
  {
   "metadata": {},
   "cell_type": "code",
   "source": [
    "from graphics import *\n",
    "\n",
    "lineal_canv = GraphWin('Ein Lineal', 1000, 50)\n",
    "\n",
    "\n",
    "def strich(x, h):\n",
    "    l = Line(Point(x, 0), Point(x, h))\n",
    "    l.draw(lineal_canv)\n",
    "\n",
    "\n",
    "def lineal(l, r, h):\n",
    "    step = 5\n",
    "    if h < 1: return\n",
    "    m = (l + r) / 2\n",
    "    strich(m, h)\n",
    "    lineal(l, m, h - step)\n",
    "    lineal(m, r, h - step)\n",
    "\n",
    "\n",
    "lineal(0, 1024, 45)"
   ],
   "id": "1efb8278a083f762",
   "outputs": [],
   "execution_count": null
  },
  {
   "metadata": {},
   "cell_type": "markdown",
   "source": [
    "### Aufgabe 1.10\n",
    "Schreiben Sie eine rekursive Prozedur baum(x,y,b,h) zum Zeichnen eines (binären)\n",
    "Baumes derart, dass die Wurzel sich bei (x,y) befindet, der Baum b breit und h hoch\n",
    "ist. Definieren Sie hierzu eine Python-Prozedur line (x1,y2,x2,y2), die eine Linie vom\n",
    "Punkt (x1,y2) zum Punkt (x2,y2) zeichnet. Folgende Abbildung zeigt ein Beispiel\n",
    "für die Ausgabe die der Aufruf baum(0,0,16,4) erzeugt."
   ],
   "id": "47504475892c17f6"
  },
  {
   "metadata": {},
   "cell_type": "code",
   "source": [
    "from graphics import *\n",
    "\n",
    "lineal_canv = GraphWin('Baum', 500, 500)\n",
    "\n",
    "\n",
    "def line(x1, y1, x2, y2):\n",
    "    l = Line(Point(x1, y1), Point(x2, y2))\n",
    "    l.draw(lineal_canv)\n",
    "\n",
    "\n",
    "def baum(x, y, b, h):\n",
    "    if h < 1:\n",
    "        return\n",
    "    # Zeichne den Stamm\n",
    "    line(x, y, x + h, y + h)\n",
    "    # Zeichne die linke Seite des Baumes\n",
    "    baum(x - b / 2, y + h, b / 2, h - 1)\n",
    "    # Zeichne die rechte Seite des Baumes\n",
    "    baum(x + b / 2, y + h, b / 2, h - 1)\n",
    "\n",
    "\n",
    "baum(0, 0, 300, 100)"
   ],
   "id": "a7e04306ead172fc",
   "outputs": [],
   "execution_count": null
  },
  {
   "metadata": {},
   "cell_type": "markdown",
   "source": [
    "### Aufgabe 1.11\n",
    "Das Sierpinski-Dreieck in Python."
   ],
   "id": "36c5fbe6c1fea4b0"
  },
  {
   "metadata": {},
   "cell_type": "code",
   "source": [
    "import turtle\n",
    "\n",
    "# 1. Gelichschenkliges Dreieck zeichnen\n",
    "\n",
    "# 2. Dreiek verkleinern um die Hälfte und zwei davon nebeneinander positionieren. Zusätzlich ein drittes mittig direkt darüber positionieren.\n",
    "\n",
    "# 3. Schritt 2 rekursiv wiederholen, bis eine bestimmte Tiefe erreicht ist.\n"
   ],
   "id": "79f2a6939b4a97d4",
   "outputs": [],
   "execution_count": null
  },
  {
   "metadata": {},
   "cell_type": "markdown",
   "source": [
    "# Binäre Suche\n",
    "Bei der binären Suche wird eine sortierte Liste halbiert, um das gesuchte Element zu finden. Die Suche ist effizient, da sie die Anzahl der zu prüfenden Elemente bei jedem Schritt halbiert.\n",
    "\n",
    "Als Resultat wird entweder der Index des gesuchten Elements oder -1 zurückgegeben, wenn das Element nicht gefunden wurde. -1 entspricht null, was in Python bedeutet, dass das Element nicht gefunden wurde.\n",
    "\n",
    "**Achtung: Die binäre Suche funktioniert nur auf sortierten Listen. Wenn die Liste nicht sortiert ist, muss sie zuerst sortiert werden, was zusätzliche Zeit in Anspruch nimmt.**\n",
    "\n",
    "Beispiel:\n",
    "Ich suche eine Zahl die in einer Liste (1 bis 100) vorkommt. Bei jedem Raten erhalte ich als Antwort, ob die gesuchte Zahl grösser, kleiner oder gleich der geratenen Zahl ist. Ich kann also die Liste halbieren und so die Suche effizient durchführen. Wenn ich die Liste nicht jeweils halbieren würde, müsste ich im Worst Case 100 Zahlen raten.\n",
    "\n",
    "- Einfache Suche: 100 Schritte\n",
    "- Binäre Suche: 7 Schritte (log2(100) = 6.64, also 7 Schritte)\n",
    "\n",
    "Beispiel 2:\n",
    "Ich suche eine Zahl in einer Liste von 1 bis 240'000.\n",
    "\n",
    "- Einfache Suche: 240'000 Schritte\n",
    "- Binäre Suche: 18 Schritte (log2(240'000) = 17.85, also 18 Schritte)\n",
    "\n",
    "**Verallgemeinert bedeutet das: Bei einer Liste von Länge n benötigt die binäre Suche im Worst Case log<sub>2</sub> n Schritte, bei einer einfachen Suche sind hingegen n Schritte erforderlich.**\n",
    "\n",
    "## Binary-Search in Python"
   ],
   "id": "1b7847dd86ba67ab"
  },
  {
   "metadata": {},
   "cell_type": "code",
   "source": [
    "def binary_search(lst, item):\n",
    "    low = 0\n",
    "    high = len(lst) - 1\n",
    "\n",
    "    while low <= high:\n",
    "        mid = (low + high) // 2\n",
    "        guess = lst[mid]\n",
    "        if guess == item:\n",
    "            return mid\n",
    "        if guess > item:\n",
    "            high = mid - 1\n",
    "        else:\n",
    "            low = mid + 1\n",
    "    return None\n",
    "\n",
    "\n",
    "my_list = [1, 3, 5, 7, 9]\n",
    "\n",
    "print(binary_search(my_list, 3))  # => 1 (9)\n",
    "print(binary_search(my_list, -1))  # => None (10)\n"
   ],
   "id": "42025cf1c2f2085",
   "outputs": [],
   "execution_count": null
  },
  {
   "metadata": {},
   "cell_type": "markdown",
   "source": [
    "## Übungen zum Binary Search\n",
    "\n",
    "**Aufgabe 1.1:** \\\n",
    "Eine sortierte Liste enthält 128 Namen. Du durchsuchst sie mit einer binären Suche. Wie viele Schritte benötigst du im Worst Case, um einen Namen zu finden? \\$\n",
    "Antwort: log<sub>2</sub> 128 = 7 Schritte\n",
    "\n",
    "**Aufgabe 1.2:** \\\n",
    "Nehmen wir an, du verdoppelst die Grösse der Liste. Wie viele Schritte sind nun im Worst Case erforderlich? \\\n",
    "Antwort: log<sub>2</sub> 256 = 8 Schritte"
   ],
   "id": "3a65f1d89d49503b"
  },
  {
   "metadata": {},
   "cell_type": "markdown",
   "source": [
    "## Nicht-destruktive vs In-place Implementierung\n",
    "Viele in iterativen Programmiersprachen wie C, C++ oder Python implementierte Algorithmen sind destruktiv, d.h. sie verändern die Datenstruktur, auf der sie arbeiten. \\\n",
    "Sie bauen die gegebene Struktur so um, dass das gewünschte Ergebnis erzielt wird.\n",
    "\n",
    "lst = [17, 46, 45, 8]\n",
    "lst.sort()  # destruktiv, da die Liste lst verändert wird\n",
    "\n",
    "Nach Aufruf von lst.sort() können wir nicht mehr auf die ursprüngliche Liste zugreifen, da sie verändert wurde.\n",
    "\n",
    "Eine nicht-destruktive Implementierung hingegen erstellt eine neue Datenstruktur, die das Ergebnis enthält, ohne die ursprüngliche Struktur zu verändern.\\\n",
    "In Python wäre das beispielsweise die sorted Funktion\n",
    "\n",
    "lst = [17, 46, 45, 8]\n",
    "sorted_lst = sorted(lst)  # nicht destruktiv, da die ursprüngliche Liste lst unverändert bleibt\n",
    "\n",
    "Der Nachteil nicht-destruktiver Implementierungen ist, dass sie mehr Speicherplatz benötigen, da sie eine neue Datenstruktur erstellen. Und dadurch etwas langsamer sind. \\\n",
    "Der Vorteil ist, dass sie oft kompakter, leichter zu verstehen und entsprechend schneller und fehlerfrei implementiert werden können. Folgend noch erklärt:\n",
    "- Jedes destruktive Update einer Datenstruktur verändert den internen Zustand eines Programms\n",
    "- Je grösser die Anzahl der möglichen Zustände im Laufe des Programmablaufs, desto mehr potenzielle Abfragen, und desto mehr potentielle Fehler können sich einschleichen\n",
    "- Eine Funktion, die keine destruktiven Updates verwendet (die einer mathematischen Funktion also relativ ähnlich ist), führt keine Zustäande ein; im optimalen\n",
    "Fall verändert ein gegebenes Programm den globalen Zustand überhaupt nicht, und diese zustandsfreie Situation erlaubt es dem Programmierer, leichter den Überblick zu bewahren.\n",
    "\n",
    "Viele moderne Compiler und Interpreter geben inzwischen den Speicherplatz für nicht-destruktive Implementierungen frei, sobald er nicht mehr benötigt wird."
   ],
   "id": "eb4b794172a47670"
  }
 ],
 "metadata": {
  "kernelspec": {
   "display_name": "Python 3",
   "language": "python",
   "name": "python3"
  },
  "language_info": {
   "codemirror_mode": {
    "name": "ipython",
    "version": 2
   },
   "file_extension": ".py",
   "mimetype": "text/x-python",
   "name": "python",
   "nbconvert_exporter": "python",
   "pygments_lexer": "ipython2",
   "version": "2.7.6"
  }
 },
 "nbformat": 4,
 "nbformat_minor": 5
}
