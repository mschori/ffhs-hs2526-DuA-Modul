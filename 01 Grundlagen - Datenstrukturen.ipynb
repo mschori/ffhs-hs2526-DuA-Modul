{
 "cells": [
  {
   "metadata": {},
   "cell_type": "markdown",
   "source": [
    "# Datenstrukturen\n",
    "## Repräsentation von Datenstrukturen\n",
    "Möchte man eine Datenstruktur repräsentieren, die aus mehreren Informations-Kompoennten besteht, bieten sich in Python mehrere Möglichkeiten an. Nehmen wir beispielsweise an, wir wollen einen Baum reprsäentieren, der aus den Komponenten Schlüsseleintrag, Werteintrag, linker Teilbaum und rechter Teilbaum besteht.\n",
    "\n",
    "### Repräsentation als Klasse\n",
    "Ein einfacher Baum kann dan folgendermassen mittels des Klassenkonstruktors erzeugt werden: \\\n",
    "Baum(10, 20, Baum(1, 2), Baum(3, 4))"
   ],
   "id": "690784c793f69c2f"
  },
  {
   "metadata": {},
   "cell_type": "code",
   "outputs": [],
   "execution_count": null,
   "source": [
    "class Baum(object):\n",
    "    def __init__(self, key, val, ltree=None, rtree=None):\n",
    "        self.key = key\n",
    "        self.val = val\n",
    "        self.ltree = ltree\n",
    "        self.rtree = rtree"
   ],
   "id": "62bb4eb18a3c5627"
  },
  {
   "metadata": {},
   "cell_type": "markdown",
   "source": [
    "### Repräsentation als Liste\n",
    "In Listen können Bündel von Informationen dargestellt werden. Also Listen in Listen. \\\n",
    "[10, 20, [1, 2], [3, 4]]\n",
    "\n",
    "Der obige Baum würde also als Liste folgendermassen aussehen. \\\n",
    "[10,20, [1, 2, None, None], [3, 4, None, None]]"
   ],
   "id": "fa1b41ab7b824fd6"
  },
  {
   "metadata": {},
   "cell_type": "markdown",
   "source": [
    "### Repräsentation als Dictionary\n",
    "Ein Dictionary ist eine Sammlung von Schlüssel-Wert-Paaren. \\\n",
    "Der obige Baum würde also als Dictionary folgendermassen aussehen. \\"
   ],
   "id": "73c724276033789a"
  },
  {
   "metadata": {},
   "cell_type": "code",
   "outputs": [],
   "execution_count": null,
   "source": [
    "{\n",
    "    'key': 10,\n",
    "    'val': 20,\n",
    "    'ltree': {\n",
    "        'key': 1,\n",
    "        'val': 2,\n",
    "        'ltree': None,\n",
    "        'rtree': None\n",
    "    },\n",
    "    'rtree': {\n",
    "        'key': 3,\n",
    "        'val': 4,\n",
    "        'ltree': None,\n",
    "        'rtree': None\n",
    "    }\n",
    "}"
   ],
   "id": "9c854e081e645885"
  },
  {
   "metadata": {},
   "cell_type": "markdown",
   "source": "Tatsächlich erfolgt Python-intern der Zugriff auf die Attritube und Methoden einer Klasse nach dem gleichen Prinzip wie der Zugriff auf die Schlüssel eines Dictionaries. Nämlich über eine Hash-Tabelle.",
   "id": "a32395e264ef3313"
  },
  {
   "metadata": {},
   "cell_type": "markdown",
   "source": [
    "## Zusammengesetzte Datentypen\n",
    "In Python gibt es mehrere davon. Darunter\n",
    "- Strings (str)\n",
    "- Listen (list)\n",
    "- Tupel (tuple)\n",
    "- Mengen (set)\n",
    "- Dictionaries (dict)\n",
    "\n",
    "Sie sind alle zusätzlich iterierbar. Man kann sie also in einer Schleife durchlaufen.\n",
    "\n",
    "Listen, Tupel und Sets lassen sich jeweils in die anderen beiden Typen umwandeln.\n",
    "\n",
    "### Listen\n",
    "Beispiele:\n",
    "- []\n",
    "- [5,3,10,23]\n",
    "- ['spam', [1,2,3], 3.14, [[1], [2, 3]]]\n",
    "\n",
    "Dazu gibt es verschiedene Methoden, wie z.B. append(), sort(), reverse(), pop(), insert(), count() und viele mehr. \\\n",
    "\n",
    "#### Aufgabe A.8\n",
    "Geben Sie in der Python Shell den Ausdruck [1,2,3].remove(1) ein. Was wird zurückgeliert und warum?\n",
    "\n",
    "Antwort: [2,3] wird zurückgeliefert, weil die Methode remove() das Element 1 aus der Liste entfernt und die Liste danach zurückgibt.\n",
    "\n",
    "#### Aufgabe A.9\n",
    "Geben Sie ein möglichst kurzes Pythonkommando an, das\n",
    "a) die Anzahl der für den Datentyp dict definierten Opeationen ausgibt.\\\n",
    "b) die Anzahl der für den Datentyp list definierten Operationen ausgibt, die mit 'c' beginnen. \\\n",
    "c) die Lànge des längsten Operationsnamens der auf dem Datentyp list definierten Operation ausgibt.\n",
    "\n",
    "Antworten:\n",
    "a) `len(dir(dict))` \\\n",
    "b) `len([op for op in dir(list) if op.startswith('c')])\n",
    "c) `max([len(op) for op in dir(list)])`\n",
    "\n",
    "### Sequenzen\n",
    "Die enthaltenen Werte besitzen eine feste Anordnung. Also Listen, Tupel und Strings. \\\n",
    "Dictionaries und Sets haben keine feste Anordnung. Die Reihenfolge der Elemente wird also nicht gespeichert.\n",
    "\n",
    "Indizierung: Selektiert Einträge an einer bestimmten Position. Negative Indizes zählen von hinten. \\\n",
    "Beispiel: `a = [1,2,['x', 'y'],5]`\n",
    "- `a[0]` gibt 1 zurück\n",
    "- `a[1]` gibt 2 zurück\n",
    "- `a[-1]` gibt 5 zurück\n",
    "- `a[-2][0]` gibt 'x' zurück\n",
    "\n",
    "Slicing:\n",
    "- S[i:j] = Selektiert einen zusammenhängenden Bereich einer Sequenz. Also von Index i bis Index j.\n",
    "- S[:j] = Selektiert alle Einträge von Index 0 bis Index j.\n",
    "- S[i:] = Selektiert alle Einträge von Index i bis zum Ende der Sequenz.\n",
    "\n",
    "Extended Slicing:\n",
    "- S[i:j:k] = Selektiert alle Einträge von Index i bis Index j mit einem Schritt von k.\n",
    "- S[::-1] = Kehrt die Reihenfolge der Einträge um.\n",
    "- S[4:1:-1] = Selektiert die Einträge von Index 4 bis Index 1 in umgekehrter Reihenfolge.\n",
    "- 'Welt'[::-1] = Ergibt 'tleW'\n",
    "- 'Hallo Welt'[-2::-2] = Ergibt 'lWolH'\n",
    "- range(51)[::-10] = Ergibt [50, 40, 30, 20, 10, 0]\n",
    "\n",
    "Auch Hinzufügen ist beim extended Slicing möglich.\n",
    "- l = range(7), l[2:5] = ['x']*3 : das ergibt [0, 1, 'x', 'x', 'x', 5, 6]\n",
    "- l = ['x']*6, l[::2] = [0]*3 : das ergibt [0, 'x', 0, 'x', 0, 'x']\n",
    "- l = range(7), l[-3::-1] = range(5) : das ergibt [4, 3, 2, 1, 0, 5, 6]\n",
    "\n",
    "Funktionen/Methoden:\n",
    "- len(S) = Gibt die Länge der Sequenz S zurück.\n",
    "- min(S) = Gibt das kleinste Element der Sequenz S zurück.\n",
    "- max(S) = Gibt das grösste Element der Sequenz S zurück.\n",
    "- sum(S) = Gibt die Summe der Elemente der Sequenz S zurück.\n",
    "- del S[i] = Entfernt das Element an der Position i aus der Sequenz S.\n",
    "\n",
    "#### Aufgabe A.10"
   ],
   "id": "6fde3714def9703a"
  },
  {
   "metadata": {
    "ExecuteTime": {
     "end_time": "2025-07-31T11:45:17.654406Z",
     "start_time": "2025-07-31T11:45:17.643753Z"
    }
   },
   "cell_type": "code",
   "source": [
    "# a)\n",
    "print(range(1, 100)[1])\n",
    "print(range(1, 100)[2])\n",
    "\n",
    "# b)\n",
    "print([range(1, 19), range(10, 20)][1][2])\n",
    "\n",
    "# c)\n",
    "print(['Hello', 2, 'World'][0][2] + ['Hello', 2, 'World'][0])\n",
    "\n",
    "# d)\n",
    "print(len(range(1, 100)))\n",
    "\n",
    "# e)\n",
    "print(len(range(100, 200)[0:50:2]))"
   ],
   "id": "ed48863d4206bc21",
   "outputs": [
    {
     "name": "stdout",
     "output_type": "stream",
     "text": [
      "2\n",
      "3\n",
      "12\n",
      "lHello\n",
      "99\n",
      "25\n"
     ]
    }
   ],
   "execution_count": 3
  },
  {
   "metadata": {},
   "cell_type": "markdown",
   "source": [
    "#### Aufgabe A.11\n",
    "Wie können Sie in folgendem Ausdruck auf den Wert von y zugreifen?\n",
    "``` python\n",
    "z = [[x], [[[y]]]]\n",
    "# Antwort\n",
    "print(z[1][0][0])\n",
    "```"
   ],
   "id": "6a77f829f03008ea"
  },
  {
   "metadata": {},
   "cell_type": "markdown",
   "source": [
    "#### Aufgabe A.12\n",
    "Lösen Sie die folgenden Aufgaben durch einen Python Einzeiler:\n",
    "- a) Erzeugen Sie die Liste aller geraden Zahlen zwischen 1 und 20\n",
    "- b) Erzeugen Sie die Liste aller durch 5 teilbarer Zahlen zwischen 0 und 100\n",
    "- c) Erzeugen Sie die Liste aller durch 7 teilbarer Zahlen zwischen 0 und 100; die Liste soll dabei umgekerht sortiert sein."
   ],
   "id": "63905aa3ae4d45f1"
  },
  {
   "metadata": {
    "ExecuteTime": {
     "end_time": "2025-07-31T11:51:13.063197Z",
     "start_time": "2025-07-31T11:51:13.054350Z"
    }
   },
   "cell_type": "code",
   "source": [
    "# Antwort a)\n",
    "print([x for x in range(2, 20)])\n",
    "\n",
    "# Antwort b)\n",
    "print([x for x in range(1, 100) if x % 5 == 0])\n",
    "\n",
    "# Antwort c)\n",
    "print([x for x in range(1, 100) if x % 7 == 0][::-1])"
   ],
   "id": "28ecb8d5c7c7115",
   "outputs": [
    {
     "name": "stdout",
     "output_type": "stream",
     "text": [
      "[2, 3, 4, 5, 6, 7, 8, 9, 10, 11, 12, 13, 14, 15, 16, 17, 18, 19]\n",
      "[5, 10, 15, 20, 25, 30, 35, 40, 45, 50, 55, 60, 65, 70, 75, 80, 85, 90, 95]\n",
      "[98, 91, 84, 77, 70, 63, 56, 49, 42, 35, 28, 21, 14, 7]\n"
     ]
    }
   ],
   "execution_count": 4
  },
  {
   "metadata": {},
   "cell_type": "markdown",
   "source": [
    "### Tupel\n",
    "Tupel sind Listen ähnlich, jedoch sind Tupel - wie auch Strings - unveränderlich.\n",
    "\n",
    "Durch Konkatenation lassen sich neue Tupel erzeugen und somit \"verändern\".\n",
    "\n",
    "tupel3 = tupel1 + tupel2\n",
    "\n",
    "### Dictionaries\n",
    "Dictionaries sind Sammlungen von Schlüssel-Wert-Paaren. Sie sind nicht geordnet und die Schlüssel müssen eindeutig sein.\n",
    "\n",
    "Man kann auf einzelne Elemente zugreifen, löschen und alle für Sequenzen definierte Funktionen anwenden. Wichtig zu wissen ist, dass man nur unveränderliche Werte als Schlüssel verwenden kann - also insbesondere KEINE Listen! Aber Tupel funktionieren!\n",
    "\n",
    "--> Durch die destruktive Handhabung von Listen wäre eine Liste als Schlüssel verherend. Da sich der Schlüssel durch andere Operationen verändern könnte und somit nicht mehr eindeutig wäre.\n",
    "\n",
    "Methoden:\n",
    "- .values(): Gibt eine Liste aller Werte im Dictionary zurück.\n",
    "- .keys(): Gibt eine Liste aller Schlüssel im Dictionary zurück.\n",
    "- .items(): Gibt eine Liste aller Schlüssel-Wert-Paare im Dictionary zurück.\n",
    "\n",
    "### Strings\n",
    "Operationen:\n",
    "- .find(s1): Gibt den Index des ersten Vorkommens von s1 im String zurück. Wenn s1 nicht gefunden wird, wird -1 zurückgegeben.\n",
    "- .replace(s1, s2): Ersetzt alle Vorkommen von s1 im String durch s2.\n",
    "- .split(s1): Teilt den String an den Stellen, wo s1 vorkommt, und gibt eine Liste der Teile zurück.\n",
    "- .startswith(s1): Gibt True zurück, wenn der String mit s1 beginnt, sonst False.\n",
    "- .endswith(s1): Gibt True zurück, wenn der String mit s1 endet, sonst False.\n",
    "- .partition(sep): Teilt den String in drei Teile: den Teil vor sep, sep selbst und den Teil nach sep. Wenn sep nicht gefunden wird, wird der gesamte String als erster Teil zurückgegeben und die anderen beiden Teile sind leer.\n",
    "- .join(l): Verbindet die Elemente der Liste l zu einem String, wobei die Elemente durch den String, auf dem die Methode aufgerufen wird, getrennt werden.\n",
    "\n",
    "#### Aufgabe A.14\n",
    "Schreiben Sie eine Pythonfunktion zipString, die zwei STrings als Argumente übergeben bekommt und einen String zurückliefert, der eine \"verschränkte\" Kombination der beiden übergebenen STrings ist. \\\n",
    "Beispiel: zipString('Hello', 'World') soll 'HWeolrllod' zurückliefern. \\\n",
    "Beispiel: zipString('Bla', '123') soll 'B1l2a3' zurückliefern. \\"
   ],
   "id": "b85dddf840bdd4d6"
  },
  {
   "metadata": {
    "ExecuteTime": {
     "end_time": "2025-07-31T12:06:36.764368Z",
     "start_time": "2025-07-31T12:06:36.752677Z"
    }
   },
   "cell_type": "code",
   "source": [
    "def zip_string(s1, s2):\n",
    "    result = []\n",
    "    for i in range(max(len(s1), len(s2))):\n",
    "        if i < len(s1):\n",
    "            result.append(s1[i])\n",
    "        if i < len(s2):\n",
    "            result.append(s2[i])\n",
    "    return ''.join(result)\n",
    "\n",
    "\n",
    "print(zip_string('Hello', 'World'))\n",
    "print(zip_string('Bla', '123'))"
   ],
   "id": "315e09a28c7c62e6",
   "outputs": [
    {
     "name": "stdout",
     "output_type": "stream",
     "text": [
      "HWeolrllod\n",
      "B1l2a3\n"
     ]
    }
   ],
   "execution_count": 5
  },
  {
   "metadata": {},
   "cell_type": "markdown",
   "source": [
    "### Mengen: Der set-Typ\n",
    "Wenn duplikatfreie Sammlungen von Werten benötigt werden, kommt ein SET zum Einsatz. \\\n",
    "Set-Objekte können aus Sequenzen (wie Listen, Tupel oder Strings) mittels der Konstruktor-Funktion set() erzeugt werden. \\\n",
    "\n",
    "Beispiel: s = set(range(3))\n",
    "\n",
    "Methoden:\n",
    "- .add(x): Fügt das Element x zum Set hinzu. Wenn x bereits im Set enthalten ist, passiert nichts.\n",
    "- .remove(x): Entfernt das Element x aus dem Set. Wenn x nicht im Set enthalten ist, wird ein KeyError ausgelöst.\n",
    "- .union(s1): Gibt ein neues Set zurück, das die Vereinigung des Sets und s1 enthält. Das bedeutet, dass alle Elemente aus beiden Sets enthalten sind.\n",
    "- .intersection(s1): Gibt ein neues Set zurück, das die Schnittmenge des Sets und s1 enthält. Das bedeutet, dass nur die Elemente enthalten sind, die in beiden Sets vorkommen.\n",
    "- .difference(s1): Gibt ein neues Set zurück, das die Differenz des Sets und s1 enthält. Das bedeutet, dass nur die Elemente enthalten sind, die im Set, aber nicht in s1 vorkommen.\n"
   ],
   "id": "ca2ae8ef3e2b1c38"
  }
 ],
 "metadata": {
  "kernelspec": {
   "display_name": "Python 3",
   "language": "python",
   "name": "python3"
  },
  "language_info": {
   "codemirror_mode": {
    "name": "ipython",
    "version": 2
   },
   "file_extension": ".py",
   "mimetype": "text/x-python",
   "name": "python",
   "nbconvert_exporter": "python",
   "pygments_lexer": "ipython2",
   "version": "2.7.6"
  }
 },
 "nbformat": 4,
 "nbformat_minor": 5
}
