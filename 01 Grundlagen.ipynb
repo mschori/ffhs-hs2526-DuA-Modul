{
 "cells": [
  {
   "metadata": {},
   "cell_type": "markdown",
   "source": [
    "# Leseauftrag Algorithmen\n",
    "## Auftrag\n",
    "### Praktische Algorithmik mit Python - Aufgabe 1.1\n",
    "Geben Sie konkrete Werte der Konstanten C und n<sub>2</sub> an, die zeigen, dass gilt:\n",
    "\n",
    "(a) 3n<sup>2</sup> + 10 $\\in$ O(n<sup>2</sup>)\n",
    "\n",
    "(b) 3n<sup>2</sup> + n + 1 $\\in$ O(n<sup>2</sup>)\n",
    "\n",
    "---\n",
    "Was ist C?: C ist die Konstante, die den Ausdruck deckelt.\n",
    "Was ist n<sub>0</sub>?: Das ist der Wert, ab dem die Aussage gilt.\n",
    "\n",
    "Wir wollen also zeigen: Für alle n $\\ge$ n<sub>0</sub> gilt: Ausdruck $\\le$ C*n<sup>2</sup>\n",
    "\n",
    "Vorgehen:\n",
    "1. Was wächst am stärksten? --> 3n<sup>2</sup> und sicher nicht +10\n",
    "2. Schätze ab: 3n<sup>2</sup> + 10 $\\le$ 4n<sup>2</sup>, sobald n etwas grösser ist\n",
    "3. Teste Werte: n = 1 (passt nicht da 4 * n<sup>2</sup> = 4 zu klein ist für 3 * 1<sup>2</sup> + 10 = 13), n = 5 (passt), n = 10 (passt)\n",
    "4. Fazit: Wähle z.B. C = 4 und n<sub>0</sub> = 5 oder höher\n",
    "\n",
    "Das C spiegelt also den gewählten Wert für n bei $\\le$ n<sup>2</sup>. Das n<sub>0</sub> spiegelt also den Wert, den wir für n wählen."
   ],
   "id": "70c1973140490180"
  },
  {
   "metadata": {},
   "cell_type": "markdown",
   "source": "",
   "id": "bde0ce3b2b33655c"
  }
 ],
 "metadata": {
  "kernelspec": {
   "display_name": "Python 3",
   "language": "python",
   "name": "python3"
  },
  "language_info": {
   "codemirror_mode": {
    "name": "ipython",
    "version": 2
   },
   "file_extension": ".py",
   "mimetype": "text/x-python",
   "name": "python",
   "nbconvert_exporter": "python",
   "pygments_lexer": "ipython2",
   "version": "2.7.6"
  }
 },
 "nbformat": 4,
 "nbformat_minor": 5
}
