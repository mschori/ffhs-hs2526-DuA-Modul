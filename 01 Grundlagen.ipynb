{
 "cells": [
  {
   "metadata": {},
   "cell_type": "markdown",
   "source": [
    "# Leseauftrag Algorithmen\n",
    "- Landau-Symbole: Werden verwendet, um die Laufzeit von Algorithmen zu beschreiben. Besonders die sog. Gross-Oh-Notation (O(...)).\n",
    "- Bei der Implementierung von Algorithmen muss man sich entscheiden, ob dies durch eine rekursive oder iterative Funktion tut. Genauso muss man sich entscheiden, ob er eine bestehende Datenstruktur verändert oder eine neue Datenstruktur zurückliefert. Schlussendlich muss man auch entscheiden, ob man eine Datenstruktur durch eine Klasse oder etwa durch eine Liste oder gar durch eine Hash-Tabelle implementiert.\n",
    "\n",
    "## Auftrag\n",
    "### Praktische Algorithmik mit Python - Aufgabe 1.1\n",
    "Geben Sie konkrete Werte der Konstanten C und n<sub>2</sub> an, die zeigen, dass gilt:\n",
    "\n",
    "(a) 3n<sup>2</sup> + 10 $\\in$ O(n<sup>2</sup>)\n",
    "\n",
    "(b) 3n<sup>2</sup> + n + 1 $\\in$ O(n<sup>2</sup>)\n",
    "\n",
    "---\n",
    "Was ist C?: C ist die Konstante, die den Ausdruck deckelt.\n",
    "Was ist n<sub>0</sub>?: Das ist der Wert, ab dem die Aussage gilt.\n",
    "\n",
    "Wir wollen also zeigen: Für alle n $\\ge$ n<sub>0</sub> gilt: Ausdruck $\\le$ C*n<sup>2</sup>\n",
    "\n",
    "Vorgehen:\n",
    "1. Was wächst am stärksten? --> 3n<sup>2</sup> und sicher nicht +10\n",
    "2. Schätze ab: 3n<sup>2</sup> + 10 $\\le$ 4n<sup>2</sup>, sobald n etwas grösser ist\n",
    "3. Teste Werte: n = 1 (passt nicht da 4 * n<sup>2</sup> = 4 zu klein ist für 3 * 1<sup>2</sup> + 10 = 13), n = 5 (passt), n = 10 (passt)\n",
    "4. Fazit: Wähle z.B. C = 4 und n<sub>0</sub> = 5 oder höher\n",
    "\n",
    "Das C spiegelt also den gewählten Wert für n bei $\\le$ n<sup>2</sup>. Das n<sub>0</sub> spiegelt also den Wert, den wir für n wählen."
   ],
   "id": "70c1973140490180"
  },
  {
   "metadata": {},
   "cell_type": "markdown",
   "source": [
    "### Aufgabe 1.5\n",
    "Verwenden Sie die Python-Funktion reduce, um eine Funktion prod(lst) zu definieren, die als Ergebnis die Aufmultiplikation der Zahlen in lst zurückliefert. Implementieren Sie nun facIter mit HIlfe von prod."
   ],
   "id": "bde0ce3b2b33655c"
  },
  {
   "metadata": {
    "ExecuteTime": {
     "end_time": "2025-07-27T19:17:31.971110Z",
     "start_time": "2025-07-27T19:17:31.967699Z"
    }
   },
   "cell_type": "code",
   "source": [
    "from functools import reduce\n",
    "\n",
    "def prod(lst):\n",
    "    return reduce(lambda x, y: x * y, lst)\n",
    "\n",
    "def fac_iter(n: int):\n",
    "    return prod(range(1, n + 1))\n",
    "\n",
    "print(fac_iter(5))"
   ],
   "id": "7efd560f8653f6c8",
   "outputs": [
    {
     "name": "stdout",
     "output_type": "stream",
     "text": [
      "120\n"
     ]
    }
   ],
   "execution_count": 1
  },
  {
   "metadata": {},
   "cell_type": "markdown",
   "source": "Das gleiche jetzt in der rekursiven Version.",
   "id": "7ea366c89c9114f3"
  },
  {
   "metadata": {
    "ExecuteTime": {
     "end_time": "2025-07-27T19:19:59.235822Z",
     "start_time": "2025-07-27T19:19:59.233204Z"
    }
   },
   "cell_type": "code",
   "source": [
    "def fac_rec(n: int):\n",
    "    if n == 0:\n",
    "        return 1\n",
    "    return n * fac_rec(n - 1)\n",
    "\n",
    "print(fac_rec(5))"
   ],
   "id": "cfdbc1be214a1110",
   "outputs": [
    {
     "name": "stdout",
     "output_type": "stream",
     "text": [
      "120\n"
     ]
    }
   ],
   "execution_count": 2
  },
  {
   "metadata": {},
   "cell_type": "markdown",
   "source": [
    "### Aufgabe 1.6\n",
    "Angenommen, eine rekursive Funktion erh¨alt als Argument eine reelle Zahl. Warum\n",
    "ist es fur eine korrekt funktionierende rekursive Funktion nicht ausreichend zu for- ¨\n",
    "dern, dass die rekursiven Aufrufe als Argumente kleinere reelle Zahlen erhalten als\n",
    "die aufrufende Funktion?\n",
    "\n",
    "Antwort:\n",
    "- Reelle Zahlen sind unendlich teilbar\n",
    "- \"Kleiner\" ist kein Garant für Terminierung\n",
    "\n",
    "Eine korrekt funktionierende Rekursion mit reellen Zahlen muss also mmer eine Abbruchbedingung haben und sicherstellen, dass die rekursive Folge strikt gegen diesen Grenzwert konvergiert und ihn in endlich vielen Schritten erreicht."
   ],
   "id": "a6f9c1d64848e1fc"
  },
  {
   "metadata": {},
   "cell_type": "markdown",
   "source": [
    "### Aufgabe 1.7\n",
    "(a) Definieren Sie die Funktion sum(n), die die Summe der Zahlen von 1 bis n\n",
    "berechnen soll, rekursiv.\n",
    "\n",
    "(b) Definieren Sie die Funktion len( lst ), die die L¨ange der Liste lst berechnen soll,\n",
    "rekursiv.\n"
   ],
   "id": "212aa1aeb5f730dc"
  },
  {
   "metadata": {
    "ExecuteTime": {
     "end_time": "2025-07-27T19:27:12.543819Z",
     "start_time": "2025-07-27T19:27:12.541108Z"
    }
   },
   "cell_type": "code",
   "source": [
    "def summary(n):\n",
    "    if n == 0:\n",
    "        return 0\n",
    "    return n + summary(n - 1)\n",
    "\n",
    "print(summary(5))\n",
    "\n",
    "def length(lst):\n",
    "    if not lst:\n",
    "        return 0\n",
    "    return 0 + len(lst)\n",
    "\n",
    "print(length([1, 2, 3]))"
   ],
   "id": "ea38471636a391ab",
   "outputs": [
    {
     "name": "stdout",
     "output_type": "stream",
     "text": [
      "15\n",
      "3\n"
     ]
    }
   ],
   "execution_count": 5
  }
 ],
 "metadata": {
  "kernelspec": {
   "display_name": "Python 3",
   "language": "python",
   "name": "python3"
  },
  "language_info": {
   "codemirror_mode": {
    "name": "ipython",
    "version": 2
   },
   "file_extension": ".py",
   "mimetype": "text/x-python",
   "name": "python",
   "nbconvert_exporter": "python",
   "pygments_lexer": "ipython2",
   "version": "2.7.6"
  }
 },
 "nbformat": 4,
 "nbformat_minor": 5
}
