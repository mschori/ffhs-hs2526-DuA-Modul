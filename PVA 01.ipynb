{
 "cells": [
  {
   "metadata": {},
   "cell_type": "markdown",
   "source": [
    "# Übungen aus PVA 01\n",
    "## Verwendung von Faker\n",
    "Mit dem Python Package Faker eine Klasse schreiben, die eine bestimmte Anzahl an Fake-Datensätzen generiert und in eine Liste lädt."
   ],
   "id": "5438461821ebdc46"
  },
  {
   "metadata": {
    "ExecuteTime": {
     "end_time": "2025-09-01T16:51:23.690749Z",
     "start_time": "2025-09-01T16:51:23.686885Z"
    }
   },
   "cell_type": "code",
   "source": [
    "from faker import Faker\n",
    "\n",
    "fake = Faker()\n",
    "\n",
    "\n",
    "class FirstnameList:\n",
    "    def __init__(self, n: int = 0) -> None:\n",
    "        self.firstnames = [fake.first_name() for _ in range(n)]\n",
    "\n",
    "    def add(self, n: int = 1) -> None:\n",
    "        self.firstnames.extend([fake.first_name() for _ in range(n)])\n",
    "\n",
    "    def print(self) -> None:\n",
    "        for name in self.firstnames:\n",
    "            print(name)\n",
    "\n",
    "    def find(self, name: str) -> bool:  # Complexity O(n)\n",
    "        return name in self.firstnames\n",
    "\n",
    "\n",
    "x = FirstnameList(5)\n",
    "x.print()\n"
   ],
   "id": "307bf8a7c531ed94",
   "outputs": [
    {
     "name": "stdout",
     "output_type": "stream",
     "text": [
      "Megan\n",
      "Anthony\n",
      "Kevin\n",
      "Arthur\n",
      "Stephen\n"
     ]
    }
   ],
   "execution_count": 6
  },
  {
   "metadata": {},
   "cell_type": "markdown",
   "source": [
    "## Rekursion\n",
    "Ein Beispiel einer Rekursion in Python. Hier beim Berechnen der Fakultät."
   ],
   "id": "e8dde4414ecf87ea"
  },
  {
   "metadata": {
    "ExecuteTime": {
     "end_time": "2025-09-01T17:58:43.509335Z",
     "start_time": "2025-09-01T17:58:43.507516Z"
    }
   },
   "cell_type": "code",
   "source": [
    "def factorial(n: int) -> int:\n",
    "    return 1 if n <= 1 else n * factorial(n - 1)\n",
    "\n",
    "\n",
    "print(factorial(5))"
   ],
   "id": "7d37e3469593fe3e",
   "outputs": [
    {
     "name": "stdout",
     "output_type": "stream",
     "text": [
      "120\n"
     ]
    }
   ],
   "execution_count": 9
  },
  {
   "metadata": {},
   "cell_type": "markdown",
   "source": "## Fibonacci als Schleife und Rekursion",
   "id": "d0cd0c0ae4160771"
  },
  {
   "metadata": {
    "ExecuteTime": {
     "end_time": "2025-09-01T17:59:34.830583Z",
     "start_time": "2025-09-01T17:59:34.827827Z"
    }
   },
   "cell_type": "code",
   "source": [
    "def fibonacci_loop(n: int) -> int:\n",
    "    a, b = 0, 1\n",
    "    for _ in range(n):\n",
    "        a, b = b, a + b\n",
    "    return a\n",
    "\n",
    "\n",
    "def fibonacci_recursion(n: int) -> int:\n",
    "    return n if n <= 1 else fibonacci_recursion(n - 1) + fibonacci_recursion(n - 2)\n",
    "\n",
    "\n",
    "print(fibonacci_loop(10))\n",
    "print(fibonacci_recursion(10))"
   ],
   "id": "2cfc1e2e84d9cee0",
   "outputs": [
    {
     "name": "stdout",
     "output_type": "stream",
     "text": [
      "55\n",
      "55\n"
     ]
    }
   ],
   "execution_count": 10
  },
  {
   "metadata": {},
   "cell_type": "markdown",
   "source": [
    "## Doppelt verkettete Liste\n",
    "Eine mögliche Implementierung einer doppelt verketteten Liste in Python."
   ],
   "id": "a06d8558581cd48a"
  },
  {
   "metadata": {
    "ExecuteTime": {
     "end_time": "2025-09-01T18:25:27.155242Z",
     "start_time": "2025-09-01T18:25:27.151244Z"
    }
   },
   "cell_type": "code",
   "source": [
    "class Node:\n",
    "    def __init__(self, data) -> None:\n",
    "        self.data = data\n",
    "        self.next = None\n",
    "        self.prev = None\n",
    "\n",
    "\n",
    "class DoubleLinkedList:\n",
    "    def __init__(self) -> None:\n",
    "        self.head = None\n",
    "        self.tail = None\n",
    "\n",
    "    def _set_first_node(self, node: Node) -> None:\n",
    "        self.head = node\n",
    "        self.tail = node\n",
    "\n",
    "    def append_at_tail(self, data) -> None:\n",
    "        n = Node(data)\n",
    "        if not self.head:\n",
    "            self._set_first_node(n)\n",
    "        else:\n",
    "            n.prev = self.tail\n",
    "            self.tail.next = n\n",
    "            self.tail = n\n",
    "\n",
    "    def append_at_head(self, data) -> None:\n",
    "        n = Node(data)\n",
    "        if not self.head:\n",
    "            self._set_first_node(n)\n",
    "        else:\n",
    "            n.next = self.head\n",
    "            self.head.prev = n\n",
    "            self.head = n\n",
    "\n",
    "    def delete(self, key) -> None:\n",
    "        curr = self.head\n",
    "        while curr:\n",
    "            if curr.data == key:\n",
    "                if curr.prev:\n",
    "                    curr.prev.next = curr.next\n",
    "                if curr.next:\n",
    "                    curr.next.prev = curr.prev\n",
    "                if curr == self.head:\n",
    "                    self.head = curr.next\n",
    "                if curr == self.tail:\n",
    "                    self.tail = curr.prev\n",
    "                return\n",
    "            curr = curr.next\n",
    "\n",
    "    def display(self) -> None:\n",
    "        curr = self.head\n",
    "        while curr:\n",
    "            print(curr.data, end=\" <-> \")\n",
    "            curr = curr.next\n",
    "        print(\"None\")"
   ],
   "id": "dcb984243a05208b",
   "outputs": [],
   "execution_count": 11
  },
  {
   "metadata": {},
   "cell_type": "markdown",
   "source": "## Implementierung eines Stacks und einer Queue mit Deque",
   "id": "353fa7c210346b5e"
  },
  {
   "metadata": {},
   "cell_type": "code",
   "outputs": [],
   "execution_count": null,
   "source": [
    "from collections import deque\n",
    "\n",
    "\n",
    "class Stack:\n",
    "    def __init__(self) -> None:\n",
    "        self.container = deque()\n",
    "\n",
    "    def push(self, item) -> None:\n",
    "        self.container.append(item)\n",
    "\n",
    "    def pop(self):\n",
    "        if not self.is_empty():\n",
    "            return self.container.pop()\n",
    "        raise IndexError(\"pop from an empty stack\")\n",
    "\n",
    "    def peek(self):\n",
    "        if not self.is_empty():\n",
    "            return self.container[-1]\n",
    "        raise IndexError(\"peek from an empty stack\")\n",
    "\n",
    "    def is_empty(self) -> bool:\n",
    "        return len(self.container) == 0\n",
    "\n",
    "    def size(self) -> int:\n",
    "        return len(self.container)\n",
    "\n",
    "\n",
    "class Queue:\n",
    "    def __init__(self) -> None:\n",
    "        self.container = deque()\n",
    "\n",
    "    def enqueue(self, item) -> None:\n",
    "        self.container.append(item)\n",
    "\n",
    "    def dequeue(self):\n",
    "        if not self.is_empty():\n",
    "            return self.container.popleft()\n",
    "        raise IndexError(\"dequeue from an empty queue\")\n",
    "\n",
    "    def front(self):\n",
    "        if not self.is_empty():\n",
    "            return self.container[0]\n",
    "        raise IndexError(\"front from an empty queue\")\n",
    "\n",
    "    def is_empty(self) -> bool:\n",
    "        return len(self.container) == 0\n",
    "\n",
    "    def size(self) -> int:\n",
    "        return len(self.container)"
   ],
   "id": "c6d2c1bfe3dc19c1"
  }
 ],
 "metadata": {},
 "nbformat": 4,
 "nbformat_minor": 5
}
