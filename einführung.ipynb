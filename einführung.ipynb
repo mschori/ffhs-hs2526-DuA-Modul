{
 "cells": [
  {
   "metadata": {},
   "cell_type": "markdown",
   "source": "# Mein erstes Python-Programm",
   "id": "51d61897ce38f0ed"
  },
  {
   "metadata": {},
   "cell_type": "markdown",
   "source": "Hello World in Python.",
   "id": "9956a877b8d79fa5"
  },
  {
   "metadata": {},
   "cell_type": "code",
   "outputs": [],
   "execution_count": null,
   "source": [
    "def hello():\n",
    "    print(\"Hello World\")"
   ],
   "id": "d1340b7a8fe4731f"
  },
  {
   "metadata": {},
   "cell_type": "markdown",
   "source": "",
   "id": "52b29a25880c8bad"
  }
 ],
 "metadata": {
  "kernelspec": {
   "display_name": "Python 3",
   "language": "python",
   "name": "python3"
  },
  "language_info": {
   "codemirror_mode": {
    "name": "ipython",
    "version": 2
   },
   "file_extension": ".py",
   "mimetype": "text/x-python",
   "name": "python",
   "nbconvert_exporter": "python",
   "pygments_lexer": "ipython2",
   "version": "2.7.6"
  }
 },
 "nbformat": 4,
 "nbformat_minor": 5
}
