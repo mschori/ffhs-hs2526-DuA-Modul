{
 "cells": [
  {
   "cell_type": "markdown",
   "id": "51d61897ce38f0ed",
   "metadata": {},
   "source": [
    "# Mein erstes Python-Programm"
   ]
  },
  {
   "cell_type": "markdown",
   "id": "9956a877b8d79fa5",
   "metadata": {},
   "source": [
    "Hello World in Python."
   ]
  },
  {
   "cell_type": "code",
   "id": "d1340b7a8fe4731f",
   "metadata": {
    "ExecuteTime": {
     "end_time": "2025-07-31T08:15:41.438057Z",
     "start_time": "2025-07-31T08:15:41.428316Z"
    }
   },
   "source": [
    "def hello():\n",
    "    print(\"Hello World\")"
   ],
   "outputs": [],
   "execution_count": 3
  },
  {
   "cell_type": "markdown",
   "id": "52b29a25880c8bad",
   "metadata": {},
   "source": "Jetzt bitte ausführen."
  },
  {
   "metadata": {
    "ExecuteTime": {
     "end_time": "2025-07-31T08:15:45.349679Z",
     "start_time": "2025-07-31T08:15:45.342047Z"
    }
   },
   "cell_type": "code",
   "source": "hello()",
   "id": "916bf1c4445f1eae",
   "outputs": [
    {
     "name": "stdout",
     "output_type": "stream",
     "text": [
      "Hello World\n"
     ]
    }
   ],
   "execution_count": 4
  }
 ],
 "metadata": {
  "kernelspec": {
   "display_name": "Python 3 (ipykernel)",
   "language": "python",
   "name": "python3"
  },
  "language_info": {
   "codemirror_mode": {
    "name": "ipython",
    "version": 3
   },
   "file_extension": ".py",
   "mimetype": "text/x-python",
   "name": "python",
   "nbconvert_exporter": "python",
   "pygments_lexer": "ipython3",
   "version": "3.13.3"
  }
 },
 "nbformat": 4,
 "nbformat_minor": 5
}
